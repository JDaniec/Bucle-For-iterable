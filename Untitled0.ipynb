{
  "nbformat": 4,
  "nbformat_minor": 0,
  "metadata": {
    "colab": {
      "provenance": [],
      "authorship_tag": "ABX9TyOLVbCJJz4gVw2no67sYJNb",
      "include_colab_link": true
    },
    "kernelspec": {
      "name": "python3",
      "display_name": "Python 3"
    },
    "language_info": {
      "name": "python"
    }
  },
  "cells": [
    {
      "cell_type": "markdown",
      "metadata": {
        "id": "view-in-github",
        "colab_type": "text"
      },
      "source": [
        "<a href=\"https://colab.research.google.com/github/JDaniec/Bucle-For-iterable/blob/main/Untitled0.ipynb\" target=\"_parent\"><img src=\"https://colab.research.google.com/assets/colab-badge.svg\" alt=\"Open In Colab\"/></a>"
      ]
    },
    {
      "cell_type": "code",
      "execution_count": null,
      "metadata": {
        "id": "ovPt7UYATQ8O"
      },
      "outputs": [],
      "source": [
        "empleados = [None] * 3\n",
        "salarios = [None] * 3\n",
        "\n",
        "prom_salarial = 0\n",
        "num_emp_mayor_prom = 0\n",
        "\n",
        "for i in range(3):\n",
        "    nombre = input(\"Digite el nombre del empleado: \")\n",
        "    salario = int(input(\"Digite el salario del empleado: \"))\n",
        "    empleados[i] = nombre\n",
        "    salarios[i] = salario\n",
        "    prom_salarial = prom_salarial + salarios[i]\n",
        "\n",
        "prom_sal_empresa = prom_salarial / len(empleados)\n",
        "\n",
        "for i in range(3):\n",
        "    if salarios[i] > prom_sal_empresa:\n",
        "        num_emp_mayor_prom += 1\n",
        "\n",
        "print(\"El número de empleados que ganan más del promedio es\", num_emp_mayor_prom)\n",
        "\n",
        "\n",
        "  "
      ]
    },
    {
      "cell_type": "markdown",
      "source": [
        "Ejercicios arreglos\n",
        "1.hacer un erreglo en python que que lea un vector a de n elementos que averigue e imprima cual es el mayor elemento y en que posicion se encuentra.\n",
        "2.La norma de un vector está representada como la raiz de la suma de sus elementos elevados al cuadrado, hacer un programa en python que calcule la norma euclidiana de un vector.\n",
        "3.Sea u= x,y, v = a,b, el producto (.) enre u y v está dada por el producto del primer elemento de u con el primer elemento de v + el el producto del segundo elemento de u con el segundo elemento de v, en caso de haber elementos se continua, hacer un programa en python que calculo el producto (.) de dos vectores\n"
      ],
      "metadata": {
        "id": "hycY1rjvVunv"
      }
    },
    {
      "cell_type": "code",
      "source": [
        "vector_a = []\n",
        "\n",
        "for i in range(9):\n",
        "    elemento = int(input(\"Digite el número del elemento: \"))\n",
        "    vector_a.append(elemento)  \n",
        "\n",
        "mayor_elemento = vector_a[0]\n",
        "posicion = 0\n",
        "\n",
        "for i in range(1, 9):\n",
        "    if vector_a[i] > mayor_elemento:\n",
        "        mayor_elemento = vector_a[i]\n",
        "        posicion = i\n",
        "\n",
        "print(\"El elemento mayor es \" + str(mayor_elemento) + \" y su posición es \" + str(posicion))\n",
        "\n",
        "\n",
        "\n",
        "\n",
        "    \n",
        "\n",
        "\n",
        "\n",
        "\n",
        "\n",
        "\n"
      ],
      "metadata": {
        "id": "OcWXONufWfH-"
      },
      "execution_count": null,
      "outputs": []
    },
    {
      "cell_type": "code",
      "source": [
        "Punto_a = []\n",
        "Punto_b = []\n",
        "\n",
        "\n",
        "for i in range(2):\n",
        "  p = int(input(\"Digite el punto a\" ))\n",
        "  Punto_a.append(p)\n",
        "\n",
        "\n",
        "for i in range(2):\n",
        "  q = int(input(\"Digite el punto q\"))\n",
        "  Punto_b.append(q)\n",
        "\n",
        "vector_a = [Punto_a[0], Punto_a[1], Punto_b[0], Punto_b[1]]\n",
        "\n",
        "origen = (Punto_b[0] -Punto_a[0], Punto_b[1] - Punto_a[1])\n",
        "\n",
        "Norma = ((origen[0])**2 + (origen[1])**2)**0.5\n",
        "\n",
        "print(str(Norma))\n",
        "\n",
        "\n"
      ],
      "metadata": {
        "id": "E0dvR0fYcjf-"
      },
      "execution_count": null,
      "outputs": []
    },
    {
      "cell_type": "code",
      "source": [
        "punto_a = []\n",
        "punto_b = []\n",
        "punto_p = []\n",
        "punto_q = []\n",
        "\n",
        "for i in range(2):\n",
        "  a = int(input(\"Digite el punto a, perteneciente el vector u\" ))\n",
        "  punto_a.append(a)\n",
        "\n",
        "\n",
        "\n",
        "for i in range(2):\n",
        "  p = int(input(\"Digite el punto p,perteneciente el vector u\" ))\n",
        "  punto_p.append(p)\n",
        "\n",
        "\n",
        "\n",
        "vector_u = [punto_a[0], punto_a[1]]\n",
        "vector_v = [punto_p[0], punto_p[1]]\n",
        "\n",
        "Pp = (punto_a[0]*punto_p[0] + punto_a[1]* punto_p[1])\n",
        "print(\"El producto punto enre los vectores u y v es \" + str(Pp))\n",
        "\n"
      ],
      "metadata": {
        "id": "nPavkKMWjIwB"
      },
      "execution_count": null,
      "outputs": []
    }
  ]
}