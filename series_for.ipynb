{
  "nbformat": 4,
  "nbformat_minor": 0,
  "metadata": {
    "colab": {
      "provenance": [],
      "authorship_tag": "ABX9TyMpuYmv2INs0cY9o8Bnqypg",
      "include_colab_link": true
    },
    "kernelspec": {
      "name": "python3",
      "display_name": "Python 3"
    },
    "language_info": {
      "name": "python"
    }
  },
  "cells": [
    {
      "cell_type": "markdown",
      "metadata": {
        "id": "view-in-github",
        "colab_type": "text"
      },
      "source": [
        "<a href=\"https://colab.research.google.com/github/JDaniec/Bucle-For-iterable/blob/main/series_for.ipynb\" target=\"_parent\"><img src=\"https://colab.research.google.com/assets/colab-badge.svg\" alt=\"Open In Colab\"/></a>"
      ]
    },
    {
      "cell_type": "markdown",
      "source": [
        "#SERIES USANDO FOR\n"
      ],
      "metadata": {
        "id": "3QmsGyftF0hB"
      }
    },
    {
      "cell_type": "code",
      "source": [
        " #sERIE 1: 1, 2, 3, 4, 5, 6, 7, 8, 9, 10\n",
        " print(\"-------------------------------\")\n",
        " print(\"-------------SERIE 1 ----------\")\n",
        " print(\"-------------------------------\")\n",
        "\n",
        "s = \"serie\"\n",
        "for i in range (1,11):\n",
        "  s = s + str(i) + \",\"\n",
        "\n",
        "print(s)\n",
        "\n"
      ],
      "metadata": {
        "colab": {
          "base_uri": "https://localhost:8080/"
        },
        "id": "Ozpi1zomGINr",
        "outputId": "ad164328-5741-44f1-ab21-24ae5adc9ad5"
      },
      "execution_count": 4,
      "outputs": [
        {
          "output_type": "stream",
          "name": "stdout",
          "text": [
            "-------------------------------\n",
            "-------------SERIE 1 ----------\n",
            "-------------------------------\n",
            "serie1,2,3,4,5,6,7,8,9,10,\n"
          ]
        }
      ]
    },
    {
      "cell_type": "code",
      "source": [
        "#seria2 : 1, 4,9,16,25,36\n",
        "\n",
        "s = \"serie\"\n",
        "for i in range (1,11):\n",
        "  if i != 10:\n",
        "    s = s + str(i**2) + \",\" \n",
        "  else:\n",
        "      s = s + str(i**2)\n",
        "\n",
        "s = s + \"}\"\n",
        "print(s)"
      ],
      "metadata": {
        "colab": {
          "base_uri": "https://localhost:8080/"
        },
        "id": "LW1Zdu_6I4Wy",
        "outputId": "fc142fa3-a822-418a-daa6-496ebfd382e8"
      },
      "execution_count": 12,
      "outputs": [
        {
          "output_type": "stream",
          "name": "stdout",
          "text": [
            "serie1,4,9,16,25,36,49,64,81,100}\n"
          ]
        }
      ]
    },
    {
      "cell_type": "code",
      "execution_count": null,
      "metadata": {
        "id": "rTCPTElUEXX-"
      },
      "outputs": [],
      "source": []
    }
  ]
}